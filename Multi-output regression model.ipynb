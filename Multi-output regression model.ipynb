{
 "cells": [
  {
   "cell_type": "code",
   "execution_count": 1,
   "id": "7162fb57",
   "metadata": {},
   "outputs": [],
   "source": [
    "#Junhui Li, Liangdong Guo and Youshan Zhang\n",
    "#SCORN: Sinter Composition Optimization with Regressive Convolutional Neural Network\n",
    "import numpy as np\n",
    "import pandas as pd\n",
    "import matplotlib.pyplot as plt\n",
    "import seaborn as sns\n",
    "%matplotlib inline\n",
    "%config InlineBackend.figure_format = \"retina\"\n",
    "\n",
    "from sklearn import metrics\n",
    "from sklearn.model_selection import train_test_split\n",
    "\n",
    "import warnings\n",
    "warnings.filterwarnings(\"ignore\")\n",
    "import statsmodels.api as sm\n",
    "import statsmodels.formula.api as smf\n",
    "from sklearn.neural_network import MLPRegressor\n",
    "from sklearn.preprocessing import StandardScaler\n",
    "import pandas as pd\n",
    "from scipy.io import loadmat\n",
    "from IPython.core.interactiveshell import InteractiveShell\n",
    "InteractiveShell.ast_node_interactivity = 'all'\n",
    "from sklearn.metrics import mean_squared_error # MSE\n",
    "from sklearn.metrics import mean_absolute_error # MAE\n",
    "from sklearn.metrics import r2_score # R square\n",
    "from sklearn.model_selection import KFold\n",
    "from math import sqrt"
   ]
  },
  {
   "cell_type": "code",
   "execution_count": 3,
   "id": "94223cb0",
   "metadata": {},
   "outputs": [
    {
     "name": "stdout",
     "output_type": "stream",
     "text": [
      "(6242, 19)\n"
     ]
    }
   ],
   "source": [
    "## load data\n",
    "data = pd.read_csv(\"SCORNdata.csv\",header=None)\n",
    "print(data.shape)\n",
    "## variables Preparation\n",
    "#testY=pd.read_csv(\"3.csv\",header=None)\n",
    "#testY=testY.T\n",
    "#print(testY.shape)\n",
    "#testX = pd.read_csv(\"2.csv\",header=None)\n",
    "#print(testX.shape)"
   ]
  },
  {
   "cell_type": "code",
   "execution_count": 4,
   "id": "145ed074",
   "metadata": {},
   "outputs": [
    {
     "name": "stdout",
     "output_type": "stream",
     "text": [
      "(4993, 1)\n",
      "(4993, 9)\n",
      "(1249, 1)\n",
      "(1249, 9)\n"
     ]
    }
   ],
   "source": [
    "## Five-fold validation\n",
    "D=data.to_numpy();\n",
    "k=5;\n",
    "np.random.shuffle(D)\n",
    "dataset = np.array_split(D, k)\n",
    "for i in range(1):\n",
    "\n",
    "        train_set = dataset.copy()\n",
    "##\n",
    "        test_set = train_set.pop(i)\n",
    "\n",
    "        train_set = np.vstack(train_set)\n",
    "        train_set=np.array(train_set)\n",
    "        test_set=np.array(test_set)\n",
    "        trainX=train_set[:,9:10]\n",
    "        print(trainX.shape)\n",
    "        trainY=train_set[:,0:9]\n",
    "        print(trainY.shape)\n",
    "        testX=test_set[:,9:10]\n",
    "        print(testX.shape)\n",
    "        testY=test_set[:,0:9]\n",
    "        print(testY.shape)"
   ]
  },
  {
   "cell_type": "code",
   "execution_count": 5,
   "id": "9935da7f",
   "metadata": {},
   "outputs": [
    {
     "data": {
      "text/plain": [
       "RandomForestRegressor()"
      ]
     },
     "execution_count": 5,
     "metadata": {},
     "output_type": "execute_result"
    },
    {
     "data": {
      "text/plain": [
       "RandomForestRegressor()"
      ]
     },
     "execution_count": 5,
     "metadata": {},
     "output_type": "execute_result"
    },
    {
     "data": {
      "text/plain": [
       "RandomForestRegressor()"
      ]
     },
     "execution_count": 5,
     "metadata": {},
     "output_type": "execute_result"
    },
    {
     "data": {
      "text/plain": [
       "RandomForestRegressor()"
      ]
     },
     "execution_count": 5,
     "metadata": {},
     "output_type": "execute_result"
    },
    {
     "data": {
      "text/plain": [
       "RandomForestRegressor()"
      ]
     },
     "execution_count": 5,
     "metadata": {},
     "output_type": "execute_result"
    },
    {
     "name": "stdout",
     "output_type": "stream",
     "text": [
      "0.4759763496263612\n",
      "0.3245469082871783\n",
      "0.999779792415518\n"
     ]
    }
   ],
   "source": [
    "# RandomForest model\n",
    "from sklearn.datasets import make_regression\n",
    "from sklearn.ensemble import RandomForestRegressor\n",
    "model = RandomForestRegressor()\n",
    "Rmse=np.empty(5)\n",
    "mae=np.empty(5)\n",
    "R2=np.empty(5)\n",
    "for i in range(k):\n",
    "\n",
    "        train_set = dataset.copy()\n",
    "\n",
    "        test_set = train_set.pop(i)\n",
    "\n",
    "        train_set = np.vstack(train_set)\n",
    "        train_set=np.array(train_set)\n",
    "        test_set=np.array(test_set)\n",
    "#####---------------------------------------   \n",
    "        trainX=train_set[:,9:10]\n",
    "        trainY=train_set[:,0:9]\n",
    "        validationX=test_set[:,9:10]\n",
    "        validationY=test_set[:,0:9]\n",
    "#####---------------------------------------         \n",
    "        y_vali=validationY.T\n",
    "        #print(y_test.shape)\n",
    "        model.fit(trainX,trainY)\n",
    "        y_random=model.predict(validationX)\n",
    "        y_random=y_random.T\n",
    "        #print(ytestt)\n",
    "        Rmse[i-1]=sqrt(mean_squared_error(y_vali,y_random))\n",
    "        mae[i-1]=mean_absolute_error(y_vali,y_random)\n",
    "        R2[i-1]=r2_score(y_vali,y_random)\n",
    "        \n",
    "print(np.mean(Rmse))\n",
    "print(np.mean(mae))\n",
    "print(np.mean(R2))\n"
   ]
  },
  {
   "cell_type": "code",
   "execution_count": 6,
   "id": "360ba260",
   "metadata": {},
   "outputs": [
    {
     "data": {
      "text/plain": [
       "MultiOutputRegressor(estimator=KNeighborsRegressor())"
      ]
     },
     "execution_count": 6,
     "metadata": {},
     "output_type": "execute_result"
    },
    {
     "data": {
      "text/plain": [
       "MultiOutputRegressor(estimator=KNeighborsRegressor())"
      ]
     },
     "execution_count": 6,
     "metadata": {},
     "output_type": "execute_result"
    },
    {
     "data": {
      "text/plain": [
       "MultiOutputRegressor(estimator=KNeighborsRegressor())"
      ]
     },
     "execution_count": 6,
     "metadata": {},
     "output_type": "execute_result"
    },
    {
     "data": {
      "text/plain": [
       "MultiOutputRegressor(estimator=KNeighborsRegressor())"
      ]
     },
     "execution_count": 6,
     "metadata": {},
     "output_type": "execute_result"
    },
    {
     "data": {
      "text/plain": [
       "MultiOutputRegressor(estimator=KNeighborsRegressor())"
      ]
     },
     "execution_count": 6,
     "metadata": {},
     "output_type": "execute_result"
    },
    {
     "name": "stdout",
     "output_type": "stream",
     "text": [
      "0.5309151165144022\n",
      "0.351679490572515\n",
      "0.9997267482214592\n"
     ]
    }
   ],
   "source": [
    "#KNN\n",
    "from sklearn.neighbors import KNeighborsRegressor\n",
    "from sklearn.multioutput import MultiOutputRegressor\n",
    "import numpy as np\n",
    "\n",
    "knn = KNeighborsRegressor()\n",
    "regr = MultiOutputRegressor(knn)\n",
    "\n",
    "Rmse=np.empty(5)\n",
    "mae=np.empty(5)\n",
    "R2=np.empty(5)\n",
    "for i in range(k):\n",
    "\n",
    "        train_set = dataset.copy()\n",
    "\n",
    "        test_set = train_set.pop(i)\n",
    "\n",
    "        train_set = np.vstack(train_set)\n",
    "        train_set=np.array(train_set)\n",
    "        test_set=np.array(test_set)\n",
    "#####---------------------------------------   \n",
    "        trainX=train_set[:,9:10]\n",
    "        trainY=train_set[:,0:9]\n",
    "        validationX=test_set[:,9:10]\n",
    "        validationY=test_set[:,0:9]\n",
    "#####---------------------------------------         \n",
    "        y_vali=validationY.T\n",
    "        #print(y_test.shape)\n",
    "        regr.fit(trainX,trainY)\n",
    "        y_knn=regr.predict(validationX)\n",
    "        y_knn=y_knn.T\n",
    "        #print(ytestt)\n",
    "        Rmse[i-1]=sqrt(mean_squared_error(y_vali,y_knn))\n",
    "        mae[i-1]=mean_absolute_error(y_vali,y_knn)\n",
    "        R2[i-1]=r2_score(y_vali,y_knn)\n",
    "        \n",
    "print(np.mean(Rmse))\n",
    "print(np.mean(mae))\n",
    "print(np.mean(R2))"
   ]
  },
  {
   "cell_type": "code",
   "execution_count": 7,
   "id": "0f6fe5a9",
   "metadata": {},
   "outputs": [
    {
     "name": "stdout",
     "output_type": "stream",
     "text": [
      "0.47971871534667254\n",
      "0.32801506227491556\n",
      "0.999776316944082\n"
     ]
    }
   ],
   "source": [
    "Rmse=np.empty(5)\n",
    "mae=np.empty(5)\n",
    "R2=np.empty(5)\n",
    "for i in range(k):\n",
    "\n",
    "        train_set = dataset.copy()\n",
    "\n",
    "        test_set = train_set.pop(i)\n",
    "\n",
    "        train_set = np.vstack(train_set)\n",
    "        train_set=np.array(train_set)\n",
    "        test_set=np.array(test_set)\n",
    "#####---------------------------------------   \n",
    "        trainX=train_set[:,9:10]\n",
    "        trainY=train_set[:,0:9]\n",
    "        validationX=test_set[:,9:10]\n",
    "        validationY=test_set[:,0:9]\n",
    "        \n",
    "        y_vali=validationY.T\n",
    "#least squre\n",
    "        train_xadd = sm.add_constant(trainX)  ## 添加常数项\n",
    "        lm = sm.OLS(trainY,train_xadd).fit()\n",
    "        validationxadd = sm.add_constant(validationX)  ## 添加常数项\n",
    "        y_ols = lm.predict(validationxadd)\n",
    "        y_ols=y_ols.T\n",
    "        Rmse[i-1]=sqrt(mean_squared_error(y_vali,y_ols))\n",
    "        mae[i-1]=mean_absolute_error(y_vali,y_ols)\n",
    "        R2[i-1]=r2_score(y_vali,y_ols)\n",
    "        \n",
    "print(np.mean(Rmse))\n",
    "print(np.mean(mae))\n",
    "print(np.mean(R2))"
   ]
  },
  {
   "cell_type": "code",
   "execution_count": 8,
   "id": "7acc5853",
   "metadata": {},
   "outputs": [
    {
     "data": {
      "text/plain": [
       "DecisionTreeRegressor()"
      ]
     },
     "execution_count": 8,
     "metadata": {},
     "output_type": "execute_result"
    },
    {
     "data": {
      "text/plain": [
       "DecisionTreeRegressor()"
      ]
     },
     "execution_count": 8,
     "metadata": {},
     "output_type": "execute_result"
    },
    {
     "data": {
      "text/plain": [
       "DecisionTreeRegressor()"
      ]
     },
     "execution_count": 8,
     "metadata": {},
     "output_type": "execute_result"
    },
    {
     "data": {
      "text/plain": [
       "DecisionTreeRegressor()"
      ]
     },
     "execution_count": 8,
     "metadata": {},
     "output_type": "execute_result"
    },
    {
     "data": {
      "text/plain": [
       "DecisionTreeRegressor()"
      ]
     },
     "execution_count": 8,
     "metadata": {},
     "output_type": "execute_result"
    },
    {
     "name": "stdout",
     "output_type": "stream",
     "text": [
      "0.47611893603055416\n",
      "0.32457455097003074\n",
      "0.999779665702842\n"
     ]
    }
   ],
   "source": [
    "#DecisionTreeRegressor\n",
    "from sklearn.tree import DecisionTreeRegressor\n",
    "import matplotlib.pyplot as plt\n",
    "regr_1 = DecisionTreeRegressor()\n",
    "\n",
    "Rmse=np.empty(5)\n",
    "mae=np.empty(5)\n",
    "R2=np.empty(5)\n",
    "for i in range(k):\n",
    "\n",
    "        train_set = dataset.copy()\n",
    "\n",
    "        test_set = train_set.pop(i)\n",
    "\n",
    "        train_set = np.vstack(train_set)\n",
    "        train_set=np.array(train_set)\n",
    "        test_set=np.array(test_set)\n",
    "#####---------------------------------------   \n",
    "        trainX=train_set[:,9:10]\n",
    "        trainY=train_set[:,0:9]\n",
    "        validationX=test_set[:,9:10]\n",
    "        validationY=test_set[:,0:9]\n",
    "#####---------------------------------------         \n",
    "        y_vali=validationY.T\n",
    "        #print(y_test.shape)\n",
    "        regr_1.fit(trainX,trainY)\n",
    "        y_De=regr_1.predict(validationX)\n",
    "        y_De=y_De.T\n",
    "        #print(ytestt)\n",
    "        Rmse[i-1]=sqrt(mean_squared_error(y_vali,y_De))\n",
    "        mae[i-1]=mean_absolute_error(y_vali,y_De)\n",
    "        R2[i-1]=r2_score(y_vali,y_De)\n",
    "        \n",
    "print(np.mean(Rmse))\n",
    "print(np.mean(mae))\n",
    "print(np.mean(R2))        \n"
   ]
  },
  {
   "cell_type": "code",
   "execution_count": 9,
   "id": "8f8ec28b",
   "metadata": {},
   "outputs": [
    {
     "data": {
      "text/plain": [
       "RegressorChain(base_estimator=LinearSVR())"
      ]
     },
     "execution_count": 9,
     "metadata": {},
     "output_type": "execute_result"
    },
    {
     "data": {
      "text/plain": [
       "RegressorChain(base_estimator=LinearSVR())"
      ]
     },
     "execution_count": 9,
     "metadata": {},
     "output_type": "execute_result"
    },
    {
     "data": {
      "text/plain": [
       "RegressorChain(base_estimator=LinearSVR())"
      ]
     },
     "execution_count": 9,
     "metadata": {},
     "output_type": "execute_result"
    },
    {
     "data": {
      "text/plain": [
       "RegressorChain(base_estimator=LinearSVR())"
      ]
     },
     "execution_count": 9,
     "metadata": {},
     "output_type": "execute_result"
    },
    {
     "data": {
      "text/plain": [
       "RegressorChain(base_estimator=LinearSVR())"
      ]
     },
     "execution_count": 9,
     "metadata": {},
     "output_type": "execute_result"
    },
    {
     "name": "stdout",
     "output_type": "stream",
     "text": [
      "0.7644086703537617\n",
      "0.4964100928233077\n",
      "0.999417631156702\n"
     ]
    }
   ],
   "source": [
    "# Multi-output SVR\n",
    "from sklearn.datasets import make_regression\n",
    "from sklearn.multioutput import MultiOutputRegressor\n",
    "from sklearn.svm import LinearSVR\n",
    "from sklearn.datasets import make_regression\n",
    "from sklearn.multioutput import RegressorChain\n",
    "from sklearn.svm import LinearSVR\n",
    "modelSVR = LinearSVR()\n",
    "wrapper2 = RegressorChain(modelSVR)\n",
    "\n",
    "Rmse=np.empty(5)\n",
    "mae=np.empty(5)\n",
    "R2=np.empty(5)\n",
    "for i in range(k):\n",
    "\n",
    "        train_set = dataset.copy()\n",
    "\n",
    "        test_set = train_set.pop(i)\n",
    "\n",
    "        train_set = np.vstack(train_set)\n",
    "        train_set=np.array(train_set)\n",
    "        test_set=np.array(test_set)\n",
    "#####---------------------------------------   \n",
    "        trainX=train_set[:,9:10]\n",
    "        trainY=train_set[:,0:9]\n",
    "        validationX=test_set[:,9:10]\n",
    "        validationY=test_set[:,0:9]\n",
    "#####---------------------------------------         \n",
    "        y_vali=validationY.T\n",
    "        #print(y_test.shape)\n",
    "        wrapper2.fit(trainX,trainY)\n",
    "        y_SVR=wrapper2.predict(validationX)\n",
    "        y_SVR=y_SVR.T\n",
    "        #print(ytestt)\n",
    "        Rmse[i-1]=sqrt(mean_squared_error(y_vali,y_SVR))\n",
    "        mae[i-1]=mean_absolute_error(y_vali,y_SVR)\n",
    "        R2[i-1]=r2_score(y_vali,y_SVR)\n",
    "        \n",
    "print(np.mean(Rmse))\n",
    "print(np.mean(mae))\n",
    "print(np.mean(R2)) "
   ]
  },
  {
   "cell_type": "code",
   "execution_count": 10,
   "id": "a96afebb",
   "metadata": {},
   "outputs": [
    {
     "data": {
      "text/plain": [
       "MLPRegressor(activation='tanh', hidden_layer_sizes=(20, 50, 100), max_iter=300,\n",
       "             random_state=123)"
      ]
     },
     "execution_count": 10,
     "metadata": {},
     "output_type": "execute_result"
    },
    {
     "data": {
      "text/plain": [
       "MLPRegressor(activation='tanh', hidden_layer_sizes=(20, 50, 100), max_iter=300,\n",
       "             random_state=123)"
      ]
     },
     "execution_count": 10,
     "metadata": {},
     "output_type": "execute_result"
    },
    {
     "data": {
      "text/plain": [
       "MLPRegressor(activation='tanh', hidden_layer_sizes=(20, 50, 100), max_iter=300,\n",
       "             random_state=123)"
      ]
     },
     "execution_count": 10,
     "metadata": {},
     "output_type": "execute_result"
    },
    {
     "data": {
      "text/plain": [
       "MLPRegressor(activation='tanh', hidden_layer_sizes=(20, 50, 100), max_iter=300,\n",
       "             random_state=123)"
      ]
     },
     "execution_count": 10,
     "metadata": {},
     "output_type": "execute_result"
    },
    {
     "data": {
      "text/plain": [
       "MLPRegressor(activation='tanh', hidden_layer_sizes=(20, 50, 100), max_iter=300,\n",
       "             random_state=123)"
      ]
     },
     "execution_count": 10,
     "metadata": {},
     "output_type": "execute_result"
    },
    {
     "name": "stdout",
     "output_type": "stream",
     "text": [
      "0.48631759770485294\n",
      "0.33506669652351173\n",
      "0.9997701262235396\n"
     ]
    }
   ],
   "source": [
    "# MLP\n",
    "mlpr = MLPRegressor(hidden_layer_sizes=(20,50,100), \n",
    "                    activation='tanh', \n",
    "                    solver='adam', \n",
    "                    alpha=0.0001,   \n",
    "                    max_iter=300, \n",
    "                    random_state=123,\n",
    "#                     early_stopping=True, ## \n",
    "#                     validation_fraction=0.2, ##\n",
    "#                     tol=1e-8,\n",
    "                   )\n",
    "Rmse=np.empty(5)\n",
    "mae=np.empty(5)\n",
    "R2=np.empty(5)\n",
    "for i in range(k):\n",
    "\n",
    "        train_set = dataset.copy()\n",
    "\n",
    "        test_set = train_set.pop(i)\n",
    "\n",
    "        train_set = np.vstack(train_set)\n",
    "        train_set=np.array(train_set)\n",
    "        test_set=np.array(test_set)\n",
    "#####---------------------------------------   \n",
    "        trainX=train_set[:,9:10]\n",
    "        trainY=train_set[:,0:9]\n",
    "        validationX=test_set[:,9:10]\n",
    "        validationY=test_set[:,0:9]\n",
    "#####---------------------------------------         \n",
    "        y_vali=validationY.T\n",
    "        #print(y_test.shape)\n",
    "        mlpr.fit(trainX,trainY)\n",
    "        y_mlp=mlpr.predict(validationX)\n",
    "        y_mlp=y_mlp.T\n",
    "        #print(ytestt)\n",
    "        Rmse[i-1]=sqrt(mean_squared_error(y_vali,y_mlp))\n",
    "        mae[i-1]=mean_absolute_error(y_vali,y_mlp)\n",
    "        R2[i-1]=r2_score(y_vali,y_mlp)\n",
    "        \n",
    "print(np.mean(Rmse))\n",
    "print(np.mean(mae))\n",
    "print(np.mean(R2))         \n",
    "\n"
   ]
  },
  {
   "cell_type": "code",
   "execution_count": null,
   "id": "cecc5a34",
   "metadata": {
    "scrolled": true
   },
   "outputs": [],
   "source": []
  },
  {
   "cell_type": "code",
   "execution_count": null,
   "id": "c7c631e5",
   "metadata": {},
   "outputs": [],
   "source": []
  },
  {
   "cell_type": "code",
   "execution_count": null,
   "id": "41532a64",
   "metadata": {},
   "outputs": [],
   "source": []
  },
  {
   "cell_type": "code",
   "execution_count": null,
   "id": "7abb170f",
   "metadata": {},
   "outputs": [],
   "source": []
  },
  {
   "cell_type": "code",
   "execution_count": null,
   "id": "4f42e137",
   "metadata": {},
   "outputs": [],
   "source": []
  },
  {
   "cell_type": "code",
   "execution_count": null,
   "id": "ddf5479e",
   "metadata": {},
   "outputs": [],
   "source": []
  },
  {
   "cell_type": "code",
   "execution_count": null,
   "id": "ac17a07d",
   "metadata": {},
   "outputs": [],
   "source": []
  },
  {
   "cell_type": "code",
   "execution_count": null,
   "id": "09b46e6c",
   "metadata": {},
   "outputs": [],
   "source": []
  },
  {
   "cell_type": "code",
   "execution_count": null,
   "id": "d0ed6752",
   "metadata": {
    "scrolled": true
   },
   "outputs": [],
   "source": []
  },
  {
   "cell_type": "code",
   "execution_count": null,
   "id": "967d27cb",
   "metadata": {},
   "outputs": [],
   "source": []
  },
  {
   "cell_type": "code",
   "execution_count": null,
   "id": "62adb3c9",
   "metadata": {},
   "outputs": [],
   "source": []
  },
  {
   "cell_type": "code",
   "execution_count": null,
   "id": "e9c8c5a6",
   "metadata": {},
   "outputs": [],
   "source": []
  },
  {
   "cell_type": "code",
   "execution_count": null,
   "id": "72fec960",
   "metadata": {},
   "outputs": [],
   "source": []
  },
  {
   "cell_type": "code",
   "execution_count": null,
   "id": "6a3fe2a1",
   "metadata": {},
   "outputs": [],
   "source": []
  },
  {
   "cell_type": "code",
   "execution_count": null,
   "id": "a6439597",
   "metadata": {},
   "outputs": [],
   "source": []
  },
  {
   "cell_type": "code",
   "execution_count": null,
   "id": "c75b4ba1",
   "metadata": {},
   "outputs": [],
   "source": []
  },
  {
   "cell_type": "code",
   "execution_count": null,
   "id": "4459eaa3",
   "metadata": {},
   "outputs": [],
   "source": []
  },
  {
   "cell_type": "code",
   "execution_count": null,
   "id": "f05301a2",
   "metadata": {},
   "outputs": [],
   "source": []
  },
  {
   "cell_type": "code",
   "execution_count": null,
   "id": "6a9c7c68",
   "metadata": {},
   "outputs": [],
   "source": []
  },
  {
   "cell_type": "code",
   "execution_count": null,
   "id": "adcd255a",
   "metadata": {},
   "outputs": [],
   "source": [
    "\n"
   ]
  },
  {
   "cell_type": "code",
   "execution_count": null,
   "id": "3308c66a",
   "metadata": {},
   "outputs": [],
   "source": []
  },
  {
   "cell_type": "code",
   "execution_count": null,
   "id": "b8eb6415",
   "metadata": {},
   "outputs": [],
   "source": []
  },
  {
   "cell_type": "code",
   "execution_count": null,
   "id": "15f7a1f4",
   "metadata": {},
   "outputs": [],
   "source": []
  },
  {
   "cell_type": "code",
   "execution_count": null,
   "id": "b46ce8ba",
   "metadata": {},
   "outputs": [],
   "source": []
  },
  {
   "cell_type": "code",
   "execution_count": null,
   "id": "097fd9eb",
   "metadata": {},
   "outputs": [],
   "source": []
  },
  {
   "cell_type": "code",
   "execution_count": null,
   "id": "3fd36964",
   "metadata": {},
   "outputs": [],
   "source": []
  },
  {
   "cell_type": "code",
   "execution_count": null,
   "id": "7c6dcbda",
   "metadata": {},
   "outputs": [],
   "source": []
  },
  {
   "cell_type": "code",
   "execution_count": null,
   "id": "c1446ee4",
   "metadata": {},
   "outputs": [],
   "source": []
  },
  {
   "cell_type": "code",
   "execution_count": null,
   "id": "789c8bd7",
   "metadata": {},
   "outputs": [],
   "source": []
  },
  {
   "cell_type": "code",
   "execution_count": null,
   "id": "988826da",
   "metadata": {},
   "outputs": [],
   "source": []
  },
  {
   "cell_type": "code",
   "execution_count": null,
   "id": "b6212246",
   "metadata": {},
   "outputs": [],
   "source": []
  },
  {
   "cell_type": "code",
   "execution_count": null,
   "id": "6f5b8ea4",
   "metadata": {},
   "outputs": [],
   "source": []
  },
  {
   "cell_type": "code",
   "execution_count": null,
   "id": "d245a576",
   "metadata": {},
   "outputs": [],
   "source": []
  },
  {
   "cell_type": "code",
   "execution_count": null,
   "id": "60294700",
   "metadata": {},
   "outputs": [],
   "source": []
  },
  {
   "cell_type": "code",
   "execution_count": null,
   "id": "2c075f98",
   "metadata": {},
   "outputs": [],
   "source": []
  },
  {
   "cell_type": "code",
   "execution_count": null,
   "id": "0137498e",
   "metadata": {},
   "outputs": [],
   "source": []
  },
  {
   "cell_type": "code",
   "execution_count": null,
   "id": "b21df8bf",
   "metadata": {},
   "outputs": [],
   "source": []
  },
  {
   "cell_type": "code",
   "execution_count": null,
   "id": "9ea6bffb",
   "metadata": {},
   "outputs": [],
   "source": []
  },
  {
   "cell_type": "code",
   "execution_count": null,
   "id": "837900f2",
   "metadata": {},
   "outputs": [],
   "source": []
  },
  {
   "cell_type": "code",
   "execution_count": null,
   "id": "5a3bc62e",
   "metadata": {},
   "outputs": [],
   "source": []
  },
  {
   "cell_type": "code",
   "execution_count": null,
   "id": "70c1b8a3",
   "metadata": {},
   "outputs": [],
   "source": []
  },
  {
   "cell_type": "code",
   "execution_count": null,
   "id": "78284790",
   "metadata": {},
   "outputs": [],
   "source": []
  },
  {
   "cell_type": "code",
   "execution_count": null,
   "id": "faebb886",
   "metadata": {},
   "outputs": [],
   "source": []
  },
  {
   "cell_type": "code",
   "execution_count": null,
   "id": "b3e2c5fa",
   "metadata": {},
   "outputs": [],
   "source": []
  },
  {
   "cell_type": "code",
   "execution_count": null,
   "id": "236e32f1",
   "metadata": {},
   "outputs": [],
   "source": []
  },
  {
   "cell_type": "code",
   "execution_count": null,
   "id": "51f5f562",
   "metadata": {},
   "outputs": [],
   "source": []
  },
  {
   "cell_type": "code",
   "execution_count": null,
   "id": "dc396c7d",
   "metadata": {},
   "outputs": [],
   "source": []
  },
  {
   "cell_type": "code",
   "execution_count": null,
   "id": "2967734e",
   "metadata": {},
   "outputs": [],
   "source": []
  }
 ],
 "metadata": {
  "kernelspec": {
   "display_name": "Python 3 (ipykernel)",
   "language": "python",
   "name": "python3"
  },
  "language_info": {
   "codemirror_mode": {
    "name": "ipython",
    "version": 3
   },
   "file_extension": ".py",
   "mimetype": "text/x-python",
   "name": "python",
   "nbconvert_exporter": "python",
   "pygments_lexer": "ipython3",
   "version": "3.7.4"
  }
 },
 "nbformat": 4,
 "nbformat_minor": 5
}
